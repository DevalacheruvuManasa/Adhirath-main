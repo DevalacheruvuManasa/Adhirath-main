{
  "cells": [
    {
      "cell_type": "code",
      "execution_count": null,
      "metadata": {
        "colab": {
          "base_uri": "https://localhost:8080/",
          "height": 17
        },
        "id": "h-TBV3d5VEGB",
        "outputId": "f2a5021c-0f38-4f83-8367-2918e6f6cb3e"
      },
      "outputs": [
        {
          "data": {
            "application/javascript": "\n    async function download(id, filename, size) {\n      if (!google.colab.kernel.accessAllowed) {\n        return;\n      }\n      const div = document.createElement('div');\n      const label = document.createElement('label');\n      label.textContent = `Downloading \"${filename}\": `;\n      div.appendChild(label);\n      const progress = document.createElement('progress');\n      progress.max = size;\n      div.appendChild(progress);\n      document.body.appendChild(div);\n\n      const buffers = [];\n      let downloaded = 0;\n\n      const channel = await google.colab.kernel.comms.open(id);\n      // Send a message to notify the kernel that we're ready.\n      channel.send({})\n\n      for await (const message of channel.messages) {\n        // Send a message to notify the kernel that we're ready.\n        channel.send({})\n        if (message.buffers) {\n          for (const buffer of message.buffers) {\n            buffers.push(buffer);\n            downloaded += buffer.byteLength;\n            progress.value = downloaded;\n          }\n        }\n      }\n      const blob = new Blob(buffers, {type: 'application/binary'});\n      const a = document.createElement('a');\n      a.href = window.URL.createObjectURL(blob);\n      a.download = filename;\n      div.appendChild(a);\n      a.click();\n      div.remove();\n    }\n  ",
            "text/plain": [
              "<IPython.core.display.Javascript object>"
            ]
          },
          "metadata": {},
          "output_type": "display_data"
        },
        {
          "data": {
            "application/javascript": "download(\"download_e6f84482-a12e-4639-94af-fbedad56590a\", \"cleaned_dataset_with_pathways.csv\", 150116)",
            "text/plain": [
              "<IPython.core.display.Javascript object>"
            ]
          },
          "metadata": {},
          "output_type": "display_data"
        }
      ],
      "source": [
        "import json\n",
        "import pandas as pd\n",
        "import ast\n",
        "import re\n",
        "from google.colab import files\n",
        "\n",
        "\n",
        "file_path = \"/content/full_processed_recommendation_dataset.json\"\n",
        "\n",
        "with open(file_path, \"r\", encoding='utf-8') as f:\n",
        "    records = [json.loads(line) for line in f]\n",
        "\n",
        "df = pd.DataFrame(records)\n",
        "\n",
        "#split\n",
        "def split_column(df, column, new_cols):\n",
        "    split_data = df[column].str.split('|', expand=True)\n",
        "    for i, col_name in enumerate(new_cols):\n",
        "        df[col_name] = split_data[i].str.strip()\n",
        "    df.drop(column, axis=1, inplace=True)\n",
        "\n",
        "split_column(df, \"VerbalIQ\", [\"VerbalIQ_Level\", \"VerbalIQ_Response\", \"VerbalIQ_Confidence\"])\n",
        "split_column(df, \"DisorderDegree\", [\"DisorderDegree_Severity\", \"DisorderDegree_Confirmed\"])\n",
        "split_column(df, \"LearningAbility\", [\"LearningSpeed\", \"LearningMethod\"])\n",
        "split_column(df, \"GraspingPower\", [\"MemoryRetention\", \"SkillApplication\"])\n",
        "\n",
        "#sepration\n",
        "list_columns = [\"DisorderType\", \"DiagnosisTypes\", \"Hobbies\", \"HobbiesList\", \"RecommendedPathways\"]\n",
        "\n",
        "def clean_list_string(s):\n",
        "    if isinstance(s, str):\n",
        "        try:\n",
        "            return ast.literal_eval(s)\n",
        "        except:\n",
        "            return []\n",
        "    return []\n",
        "\n",
        "for col in list_columns:\n",
        "    df[col] = df[col].apply(clean_list_string)\n",
        "\n",
        "# Drop duplicate hobby column\n",
        "df.drop(columns=[\"HobbiesList\"], inplace=True)\n",
        "\n",
        "#clean agegroup\n",
        "def parse_age_group(age):\n",
        "    if isinstance(age, str):\n",
        "        age = age.replace('\\u00c3\\u00a2\\u00c2\\u0080\\u00c2\\u0093', '-').replace('\\u2013', '-')\n",
        "        match = re.findall(r'\\d+', age)\n",
        "        if len(match) == 2:\n",
        "            return (int(match[0]) + int(match[1])) // 2\n",
        "        elif len(match) == 1:\n",
        "            return int(match[0])\n",
        "    return None\n",
        "\n",
        "df['AgeGroupNumeric'] = df['AgeGroup'].apply(parse_age_group)\n",
        "df.drop(columns=[\"AgeGroup\"], inplace=True)\n",
        "\n",
        "threshold = 0.9  # Drop if 90% or more are null\n",
        "df.dropna(axis=1, thresh=int((1 - threshold) * len(df)), inplace=True)\n",
        "\n",
        "\n",
        "drop_columns = [\"DiagnosisConfirmed\", \"ActivityPreference\", \"EngagementDuration\"]\n",
        "for col in drop_columns:\n",
        "    if col in df.columns:\n",
        "        df.drop(columns=[col], inplace=True)\n",
        "\n",
        "\n",
        "#One-hot encode RecommendedPathways\n",
        "all_pathways = set()\n",
        "df['RecommendedPathways'].apply(lambda x: all_pathways.update(x if isinstance(x, list) else []))\n",
        "\n",
        "for path in sorted(all_pathways):\n",
        "    colname = f\"Pathway_{path}\"\n",
        "    df[colname] = df['RecommendedPathways'].apply(lambda x: 1 if path in x else 0)\n",
        "\n",
        "df.drop(columns=[\"RecommendedPathways\"], inplace=True)\n",
        "\n",
        "\n",
        "output_file = \"cleaned_dataset_with_pathways.csv\"\n",
        "df.to_csv(output_file, index=False)\n",
        "files.download(output_file)\n"
      ]
    },
    {
      "cell_type": "code",
      "execution_count": null,
      "metadata": {
        "colab": {
          "base_uri": "https://localhost:8080/",
          "height": 17
        },
        "id": "phB7nhh1W69x",
        "outputId": "ee692dc4-f111-4a0d-8f38-e039a5c38598"
      },
      "outputs": [
        {
          "data": {
            "application/javascript": "\n    async function download(id, filename, size) {\n      if (!google.colab.kernel.accessAllowed) {\n        return;\n      }\n      const div = document.createElement('div');\n      const label = document.createElement('label');\n      label.textContent = `Downloading \"${filename}\": `;\n      div.appendChild(label);\n      const progress = document.createElement('progress');\n      progress.max = size;\n      div.appendChild(progress);\n      document.body.appendChild(div);\n\n      const buffers = [];\n      let downloaded = 0;\n\n      const channel = await google.colab.kernel.comms.open(id);\n      // Send a message to notify the kernel that we're ready.\n      channel.send({})\n\n      for await (const message of channel.messages) {\n        // Send a message to notify the kernel that we're ready.\n        channel.send({})\n        if (message.buffers) {\n          for (const buffer of message.buffers) {\n            buffers.push(buffer);\n            downloaded += buffer.byteLength;\n            progress.value = downloaded;\n          }\n        }\n      }\n      const blob = new Blob(buffers, {type: 'application/binary'});\n      const a = document.createElement('a');\n      a.href = window.URL.createObjectURL(blob);\n      a.download = filename;\n      div.appendChild(a);\n      a.click();\n      div.remove();\n    }\n  ",
            "text/plain": [
              "<IPython.core.display.Javascript object>"
            ]
          },
          "metadata": {},
          "output_type": "display_data"
        },
        {
          "data": {
            "application/javascript": "download(\"download_b3d291b9-785a-4cd7-88d6-ecf185556ba0\", \"final_dataset_with_multilabels.csv\", 142935)",
            "text/plain": [
              "<IPython.core.display.Javascript object>"
            ]
          },
          "metadata": {},
          "output_type": "display_data"
        }
      ],
      "source": [
        "import pandas as pd\n",
        "from sklearn.preprocessing import MultiLabelBinarizer\n",
        "from google.colab import files\n",
        "\n",
        "\n",
        "\n",
        "df = pd.read_csv(\"/content/cleaned_dataset_with_pathways.csv\")\n",
        "\n",
        "\n",
        "import ast\n",
        "\n",
        "def parse_list_column(x):\n",
        "    if pd.isna(x):\n",
        "        return []\n",
        "    try:\n",
        "        return ast.literal_eval(x)\n",
        "    except:\n",
        "        return []\n",
        "\n",
        "for col in ['Hobbies', 'DiagnosisTypes', 'DisorderType']:\n",
        "    df[col] = df[col].apply(parse_list_column)\n",
        "\n",
        "# One-hot encode each multi-label column\n",
        "def one_hot_multilabel(df, column, prefix):\n",
        "    mlb = MultiLabelBinarizer()\n",
        "    encoded = pd.DataFrame(mlb.fit_transform(df[column]), columns=[f\"{prefix}_{label}\" for label in mlb.classes_])\n",
        "    df = pd.concat([df.drop(columns=[column]), encoded], axis=1)\n",
        "    return df\n",
        "\n",
        "df = one_hot_multilabel(df, 'Hobbies', 'Hobby')\n",
        "df = one_hot_multilabel(df, 'DiagnosisTypes', 'Diagnosis')\n",
        "df = one_hot_multilabel(df, 'DisorderType', 'Disorder')\n",
        "\n",
        "output_file = \"final_dataset_with_multilabels.csv\"\n",
        "df.to_csv(output_file, index=False)\n",
        "files.download(output_file)\n"
      ]
    },
    {
      "cell_type": "code",
      "execution_count": null,
      "metadata": {
        "id": "5bp3bn33XHVf"
      },
      "outputs": [],
      "source": []
    }
  ],
  "metadata": {
    "colab": {
      "provenance": []
    },
    "kernelspec": {
      "display_name": "Python 3",
      "name": "python3"
    },
    "language_info": {
      "name": "python"
    }
  },
  "nbformat": 4,
  "nbformat_minor": 0
}
